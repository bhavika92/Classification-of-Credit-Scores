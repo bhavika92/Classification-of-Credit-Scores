{
 "cells": [
  {
   "cell_type": "markdown",
   "id": "a04d7820",
   "metadata": {
    "papermill": {
     "duration": 0.010773,
     "end_time": "2023-08-02T15:02:34.073540",
     "exception": false,
     "start_time": "2023-08-02T15:02:34.062767",
     "status": "completed"
    },
    "tags": []
   },
   "source": [
    "# <span style = 'color:#4415CC'> Credit Score Classification </span>\n",
    "\n",
    "# <span style = 'color:#4415CC'> Index </span>\n",
    "\n",
    "\n",
    "* [Summary](#summary)\n",
    "* [Libraries](#libraries)\n",
    "* [Load Data](#load_data)\n",
    "* [EDA](#eda)\n",
    "    * [Preview](#preview)\n",
    "    * [Helper Functions](functions)\n",
    "    * [Categorical Variables](#categorical_variables)\n",
    "    * [Numerical Variables](#numerical_variables)\n",
    "* [Transformation](#transformation)\n",
    "* [Models](#models)"
   ]
  },
  {
   "cell_type": "markdown",
   "id": "ae308214",
   "metadata": {
    "papermill": {
     "duration": 0.011628,
     "end_time": "2023-08-02T15:02:34.096426",
     "exception": false,
     "start_time": "2023-08-02T15:02:34.084798",
     "status": "completed"
    },
    "tags": []
   },
   "source": [
    "## <span style = 'color:#4415CC'> 1. Summary </span> <a class = \"anchor\" id = \"summary\"></a>\n"
   ]
  },
  {
   "cell_type": "markdown",
   "id": "237c2a78",
   "metadata": {
    "papermill": {
     "duration": 0.009978,
     "end_time": "2023-08-02T15:02:34.116474",
     "exception": false,
     "start_time": "2023-08-02T15:02:34.106496",
     "status": "completed"
    },
    "tags": []
   },
   "source": [
    "## <span style = 'color:#4415CC'> 2. Libraries </span> <a class = \"anchor\" id = \"libraries\"></a>\n"
   ]
  },
  {
   "cell_type": "code",
   "execution_count": 1,
   "id": "8319d8cc",
   "metadata": {
    "execution": {
     "iopub.execute_input": "2023-08-02T15:02:34.140703Z",
     "iopub.status.busy": "2023-08-02T15:02:34.140258Z",
     "iopub.status.idle": "2023-08-02T15:02:34.163535Z",
     "shell.execute_reply": "2023-08-02T15:02:34.162852Z"
    },
    "papermill": {
     "duration": 0.038493,
     "end_time": "2023-08-02T15:02:34.165405",
     "exception": false,
     "start_time": "2023-08-02T15:02:34.126912",
     "status": "completed"
    },
    "tags": []
   },
   "outputs": [
    {
     "name": "stdout",
     "output_type": "stream",
     "text": [
      "/kaggle/input/credit-score-classification/train.csv\n",
      "/kaggle/input/credit-score-classification/test.csv\n"
     ]
    }
   ],
   "source": [
    "# This Python 3 environment comes with many helpful analytics libraries installed\n",
    "# It is defined by the kaggle/python Docker image: https://github.com/kaggle/docker-python\n",
    "# For example, here's several helpful packages to load\n",
    "\n",
    "import numpy as np # linear algebra\n",
    "import pandas as pd # data processing, CSV file I/O (e.g. pd.read_csv)\n",
    "\n",
    "# Input data files are available in the read-only \"../input/\" directory\n",
    "# For example, running this (by clicking run or pressing Shift+Enter) will list all files under the input directory\n",
    "\n",
    "import os\n",
    "for dirname, _, filenames in os.walk('/kaggle/input'):\n",
    "    for filename in filenames:\n",
    "        print(os.path.join(dirname, filename))\n",
    "\n",
    "# You can write up to 20GB to the current directory (/kaggle/working/) that gets preserved as output when you create a version using \"Save & Run All\" \n",
    "# You can also write temporary files to /kaggle/temp/, but they won't be saved outside of the current session"
   ]
  },
  {
   "cell_type": "code",
   "execution_count": 2,
   "id": "d0c95357",
   "metadata": {
    "execution": {
     "iopub.execute_input": "2023-08-02T15:02:34.188824Z",
     "iopub.status.busy": "2023-08-02T15:02:34.188107Z",
     "iopub.status.idle": "2023-08-02T15:02:36.620114Z",
     "shell.execute_reply": "2023-08-02T15:02:36.618444Z"
    },
    "papermill": {
     "duration": 2.447097,
     "end_time": "2023-08-02T15:02:36.622976",
     "exception": false,
     "start_time": "2023-08-02T15:02:34.175879",
     "status": "completed"
    },
    "tags": []
   },
   "outputs": [
    {
     "name": "stderr",
     "output_type": "stream",
     "text": [
      "/opt/conda/lib/python3.10/site-packages/scipy/__init__.py:146: UserWarning: A NumPy version >=1.16.5 and <1.23.0 is required for this version of SciPy (detected version 1.23.5\n",
      "  warnings.warn(f\"A NumPy version >={np_minversion} and <{np_maxversion}\"\n"
     ]
    }
   ],
   "source": [
    "import numpy as np\n",
    "import pandas as pd\n",
    "import matplotlib.pyplot as plt\n",
    "import seaborn as sns\n",
    "import scipy.stats as stats\n",
    "import statistics\n",
    "\n",
    "from sklearn.model_selection import train_test_split\n",
    "from sklearn.tree import DecisionTreeClassifier\n",
    "from sklearn.ensemble import RandomForestClassifier\n",
    "from sklearn.naive_bayes import GaussianNB\n",
    "from sklearn.linear_model import LogisticRegression\n",
    "from sklearn.model_selection import cross_val_score\n",
    "from sklearn.neighbors import KNeighborsClassifier\n",
    "import xgboost as xgb\n",
    "from sklearn.metrics import accuracy_score, precision_score, recall_score,classification_report,confusion_matrix"
   ]
  },
  {
   "cell_type": "markdown",
   "id": "b491b587",
   "metadata": {
    "papermill": {
     "duration": 0.010288,
     "end_time": "2023-08-02T15:02:36.644341",
     "exception": false,
     "start_time": "2023-08-02T15:02:36.634053",
     "status": "completed"
    },
    "tags": []
   },
   "source": [
    "## <span style = 'color:#4415CC'> 3. Load Data </span> <a class = \"anchor\" id = \"Load\"></a>"
   ]
  },
  {
   "cell_type": "code",
   "execution_count": 3,
   "id": "9912d74f",
   "metadata": {
    "execution": {
     "iopub.execute_input": "2023-08-02T15:02:36.667498Z",
     "iopub.status.busy": "2023-08-02T15:02:36.667115Z",
     "iopub.status.idle": "2023-08-02T15:02:37.515278Z",
     "shell.execute_reply": "2023-08-02T15:02:37.513334Z"
    },
    "papermill": {
     "duration": 0.862819,
     "end_time": "2023-08-02T15:02:37.517972",
     "exception": false,
     "start_time": "2023-08-02T15:02:36.655153",
     "status": "completed"
    },
    "tags": []
   },
   "outputs": [
    {
     "name": "stderr",
     "output_type": "stream",
     "text": [
      "/tmp/ipykernel_20/2880817523.py:1: DtypeWarning: Columns (26) have mixed types. Specify dtype option on import or set low_memory=False.\n",
      "  df_train_original = pd.read_csv('../input/credit-score-classification/train.csv')\n"
     ]
    }
   ],
   "source": [
    "df_train_original = pd.read_csv('../input/credit-score-classification/train.csv')\n",
    "df_train = df_train_original.copy()"
   ]
  },
  {
   "cell_type": "markdown",
   "id": "a419e31e",
   "metadata": {
    "papermill": {
     "duration": 0.010506,
     "end_time": "2023-08-02T15:02:37.539352",
     "exception": false,
     "start_time": "2023-08-02T15:02:37.528846",
     "status": "completed"
    },
    "tags": []
   },
   "source": [
    "## <span style = 'color:#4415CC'> 4. EDA </span> <a class = \"anchor\" id = \"eda\"></a>\n",
    "\n",
    "### <span style = 'color:#4415CC'> I. Preview Dataset </span> <a class = \"anchor\" id = \"preview\"></a>"
   ]
  },
  {
   "cell_type": "code",
   "execution_count": 4,
   "id": "4e6027c2",
   "metadata": {
    "execution": {
     "iopub.execute_input": "2023-08-02T15:02:37.562025Z",
     "iopub.status.busy": "2023-08-02T15:02:37.561677Z",
     "iopub.status.idle": "2023-08-02T15:02:37.599006Z",
     "shell.execute_reply": "2023-08-02T15:02:37.598033Z"
    },
    "papermill": {
     "duration": 0.051337,
     "end_time": "2023-08-02T15:02:37.601384",
     "exception": false,
     "start_time": "2023-08-02T15:02:37.550047",
     "status": "completed"
    },
    "tags": []
   },
   "outputs": [
    {
     "data": {
      "text/html": [
       "<div>\n",
       "<style scoped>\n",
       "    .dataframe tbody tr th:only-of-type {\n",
       "        vertical-align: middle;\n",
       "    }\n",
       "\n",
       "    .dataframe tbody tr th {\n",
       "        vertical-align: top;\n",
       "    }\n",
       "\n",
       "    .dataframe thead th {\n",
       "        text-align: right;\n",
       "    }\n",
       "</style>\n",
       "<table border=\"1\" class=\"dataframe\">\n",
       "  <thead>\n",
       "    <tr style=\"text-align: right;\">\n",
       "      <th></th>\n",
       "      <th>ID</th>\n",
       "      <th>Customer_ID</th>\n",
       "      <th>Month</th>\n",
       "      <th>Name</th>\n",
       "      <th>Age</th>\n",
       "      <th>SSN</th>\n",
       "      <th>Occupation</th>\n",
       "      <th>Annual_Income</th>\n",
       "      <th>Monthly_Inhand_Salary</th>\n",
       "      <th>Num_Bank_Accounts</th>\n",
       "      <th>...</th>\n",
       "      <th>Credit_Mix</th>\n",
       "      <th>Outstanding_Debt</th>\n",
       "      <th>Credit_Utilization_Ratio</th>\n",
       "      <th>Credit_History_Age</th>\n",
       "      <th>Payment_of_Min_Amount</th>\n",
       "      <th>Total_EMI_per_month</th>\n",
       "      <th>Amount_invested_monthly</th>\n",
       "      <th>Payment_Behaviour</th>\n",
       "      <th>Monthly_Balance</th>\n",
       "      <th>Credit_Score</th>\n",
       "    </tr>\n",
       "  </thead>\n",
       "  <tbody>\n",
       "    <tr>\n",
       "      <th>0</th>\n",
       "      <td>0x1602</td>\n",
       "      <td>CUS_0xd40</td>\n",
       "      <td>January</td>\n",
       "      <td>Aaron Maashoh</td>\n",
       "      <td>23</td>\n",
       "      <td>821-00-0265</td>\n",
       "      <td>Scientist</td>\n",
       "      <td>19114.12</td>\n",
       "      <td>1824.843333</td>\n",
       "      <td>3</td>\n",
       "      <td>...</td>\n",
       "      <td>_</td>\n",
       "      <td>809.98</td>\n",
       "      <td>26.822620</td>\n",
       "      <td>22 Years and 1 Months</td>\n",
       "      <td>No</td>\n",
       "      <td>49.574949</td>\n",
       "      <td>80.41529543900253</td>\n",
       "      <td>High_spent_Small_value_payments</td>\n",
       "      <td>312.49408867943663</td>\n",
       "      <td>Good</td>\n",
       "    </tr>\n",
       "    <tr>\n",
       "      <th>1</th>\n",
       "      <td>0x1603</td>\n",
       "      <td>CUS_0xd40</td>\n",
       "      <td>February</td>\n",
       "      <td>Aaron Maashoh</td>\n",
       "      <td>23</td>\n",
       "      <td>821-00-0265</td>\n",
       "      <td>Scientist</td>\n",
       "      <td>19114.12</td>\n",
       "      <td>NaN</td>\n",
       "      <td>3</td>\n",
       "      <td>...</td>\n",
       "      <td>Good</td>\n",
       "      <td>809.98</td>\n",
       "      <td>31.944960</td>\n",
       "      <td>NaN</td>\n",
       "      <td>No</td>\n",
       "      <td>49.574949</td>\n",
       "      <td>118.28022162236736</td>\n",
       "      <td>Low_spent_Large_value_payments</td>\n",
       "      <td>284.62916249607184</td>\n",
       "      <td>Good</td>\n",
       "    </tr>\n",
       "    <tr>\n",
       "      <th>2</th>\n",
       "      <td>0x1604</td>\n",
       "      <td>CUS_0xd40</td>\n",
       "      <td>March</td>\n",
       "      <td>Aaron Maashoh</td>\n",
       "      <td>-500</td>\n",
       "      <td>821-00-0265</td>\n",
       "      <td>Scientist</td>\n",
       "      <td>19114.12</td>\n",
       "      <td>NaN</td>\n",
       "      <td>3</td>\n",
       "      <td>...</td>\n",
       "      <td>Good</td>\n",
       "      <td>809.98</td>\n",
       "      <td>28.609352</td>\n",
       "      <td>22 Years and 3 Months</td>\n",
       "      <td>No</td>\n",
       "      <td>49.574949</td>\n",
       "      <td>81.699521264648</td>\n",
       "      <td>Low_spent_Medium_value_payments</td>\n",
       "      <td>331.2098628537912</td>\n",
       "      <td>Good</td>\n",
       "    </tr>\n",
       "    <tr>\n",
       "      <th>3</th>\n",
       "      <td>0x1605</td>\n",
       "      <td>CUS_0xd40</td>\n",
       "      <td>April</td>\n",
       "      <td>Aaron Maashoh</td>\n",
       "      <td>23</td>\n",
       "      <td>821-00-0265</td>\n",
       "      <td>Scientist</td>\n",
       "      <td>19114.12</td>\n",
       "      <td>NaN</td>\n",
       "      <td>3</td>\n",
       "      <td>...</td>\n",
       "      <td>Good</td>\n",
       "      <td>809.98</td>\n",
       "      <td>31.377862</td>\n",
       "      <td>22 Years and 4 Months</td>\n",
       "      <td>No</td>\n",
       "      <td>49.574949</td>\n",
       "      <td>199.4580743910713</td>\n",
       "      <td>Low_spent_Small_value_payments</td>\n",
       "      <td>223.45130972736786</td>\n",
       "      <td>Good</td>\n",
       "    </tr>\n",
       "    <tr>\n",
       "      <th>4</th>\n",
       "      <td>0x1606</td>\n",
       "      <td>CUS_0xd40</td>\n",
       "      <td>May</td>\n",
       "      <td>Aaron Maashoh</td>\n",
       "      <td>23</td>\n",
       "      <td>821-00-0265</td>\n",
       "      <td>Scientist</td>\n",
       "      <td>19114.12</td>\n",
       "      <td>1824.843333</td>\n",
       "      <td>3</td>\n",
       "      <td>...</td>\n",
       "      <td>Good</td>\n",
       "      <td>809.98</td>\n",
       "      <td>24.797347</td>\n",
       "      <td>22 Years and 5 Months</td>\n",
       "      <td>No</td>\n",
       "      <td>49.574949</td>\n",
       "      <td>41.420153086217326</td>\n",
       "      <td>High_spent_Medium_value_payments</td>\n",
       "      <td>341.48923103222177</td>\n",
       "      <td>Good</td>\n",
       "    </tr>\n",
       "  </tbody>\n",
       "</table>\n",
       "<p>5 rows × 28 columns</p>\n",
       "</div>"
      ],
      "text/plain": [
       "       ID Customer_ID     Month           Name   Age          SSN Occupation  \\\n",
       "0  0x1602   CUS_0xd40   January  Aaron Maashoh    23  821-00-0265  Scientist   \n",
       "1  0x1603   CUS_0xd40  February  Aaron Maashoh    23  821-00-0265  Scientist   \n",
       "2  0x1604   CUS_0xd40     March  Aaron Maashoh  -500  821-00-0265  Scientist   \n",
       "3  0x1605   CUS_0xd40     April  Aaron Maashoh    23  821-00-0265  Scientist   \n",
       "4  0x1606   CUS_0xd40       May  Aaron Maashoh    23  821-00-0265  Scientist   \n",
       "\n",
       "  Annual_Income  Monthly_Inhand_Salary  Num_Bank_Accounts  ...  Credit_Mix  \\\n",
       "0      19114.12            1824.843333                  3  ...           _   \n",
       "1      19114.12                    NaN                  3  ...        Good   \n",
       "2      19114.12                    NaN                  3  ...        Good   \n",
       "3      19114.12                    NaN                  3  ...        Good   \n",
       "4      19114.12            1824.843333                  3  ...        Good   \n",
       "\n",
       "   Outstanding_Debt Credit_Utilization_Ratio     Credit_History_Age  \\\n",
       "0            809.98                26.822620  22 Years and 1 Months   \n",
       "1            809.98                31.944960                    NaN   \n",
       "2            809.98                28.609352  22 Years and 3 Months   \n",
       "3            809.98                31.377862  22 Years and 4 Months   \n",
       "4            809.98                24.797347  22 Years and 5 Months   \n",
       "\n",
       "   Payment_of_Min_Amount Total_EMI_per_month Amount_invested_monthly  \\\n",
       "0                     No           49.574949       80.41529543900253   \n",
       "1                     No           49.574949      118.28022162236736   \n",
       "2                     No           49.574949         81.699521264648   \n",
       "3                     No           49.574949       199.4580743910713   \n",
       "4                     No           49.574949      41.420153086217326   \n",
       "\n",
       "                  Payment_Behaviour     Monthly_Balance Credit_Score  \n",
       "0   High_spent_Small_value_payments  312.49408867943663         Good  \n",
       "1    Low_spent_Large_value_payments  284.62916249607184         Good  \n",
       "2   Low_spent_Medium_value_payments   331.2098628537912         Good  \n",
       "3    Low_spent_Small_value_payments  223.45130972736786         Good  \n",
       "4  High_spent_Medium_value_payments  341.48923103222177         Good  \n",
       "\n",
       "[5 rows x 28 columns]"
      ]
     },
     "execution_count": 4,
     "metadata": {},
     "output_type": "execute_result"
    }
   ],
   "source": [
    "df_train.head()"
   ]
  },
  {
   "cell_type": "code",
   "execution_count": 5,
   "id": "8dbd8bc9",
   "metadata": {
    "execution": {
     "iopub.execute_input": "2023-08-02T15:02:37.625475Z",
     "iopub.status.busy": "2023-08-02T15:02:37.625071Z",
     "iopub.status.idle": "2023-08-02T15:02:37.630568Z",
     "shell.execute_reply": "2023-08-02T15:02:37.629032Z"
    },
    "papermill": {
     "duration": 0.019777,
     "end_time": "2023-08-02T15:02:37.632473",
     "exception": false,
     "start_time": "2023-08-02T15:02:37.612696",
     "status": "completed"
    },
    "tags": []
   },
   "outputs": [
    {
     "name": "stdout",
     "output_type": "stream",
     "text": [
      "Train Data Size:  (100000, 28)\n"
     ]
    }
   ],
   "source": [
    "# Check Data Size\n",
    "print(\"Train Data Size: \", df_train.shape)"
   ]
  },
  {
   "cell_type": "code",
   "execution_count": 6,
   "id": "07840720",
   "metadata": {
    "execution": {
     "iopub.execute_input": "2023-08-02T15:02:37.656489Z",
     "iopub.status.busy": "2023-08-02T15:02:37.656100Z",
     "iopub.status.idle": "2023-08-02T15:02:37.950215Z",
     "shell.execute_reply": "2023-08-02T15:02:37.948580Z"
    },
    "papermill": {
     "duration": 0.308812,
     "end_time": "2023-08-02T15:02:37.952417",
     "exception": false,
     "start_time": "2023-08-02T15:02:37.643605",
     "status": "completed"
    },
    "tags": []
   },
   "outputs": [
    {
     "name": "stdout",
     "output_type": "stream",
     "text": [
      "<class 'pandas.core.frame.DataFrame'>\n",
      "RangeIndex: 100000 entries, 0 to 99999\n",
      "Data columns (total 28 columns):\n",
      " #   Column                    Non-Null Count   Dtype  \n",
      "---  ------                    --------------   -----  \n",
      " 0   ID                        100000 non-null  object \n",
      " 1   Customer_ID               100000 non-null  object \n",
      " 2   Month                     100000 non-null  object \n",
      " 3   Name                      90015 non-null   object \n",
      " 4   Age                       100000 non-null  object \n",
      " 5   SSN                       100000 non-null  object \n",
      " 6   Occupation                100000 non-null  object \n",
      " 7   Annual_Income             100000 non-null  object \n",
      " 8   Monthly_Inhand_Salary     84998 non-null   float64\n",
      " 9   Num_Bank_Accounts         100000 non-null  int64  \n",
      " 10  Num_Credit_Card           100000 non-null  int64  \n",
      " 11  Interest_Rate             100000 non-null  int64  \n",
      " 12  Num_of_Loan               100000 non-null  object \n",
      " 13  Type_of_Loan              88592 non-null   object \n",
      " 14  Delay_from_due_date       100000 non-null  int64  \n",
      " 15  Num_of_Delayed_Payment    92998 non-null   object \n",
      " 16  Changed_Credit_Limit      100000 non-null  object \n",
      " 17  Num_Credit_Inquiries      98035 non-null   float64\n",
      " 18  Credit_Mix                100000 non-null  object \n",
      " 19  Outstanding_Debt          100000 non-null  object \n",
      " 20  Credit_Utilization_Ratio  100000 non-null  float64\n",
      " 21  Credit_History_Age        90970 non-null   object \n",
      " 22  Payment_of_Min_Amount     100000 non-null  object \n",
      " 23  Total_EMI_per_month       100000 non-null  float64\n",
      " 24  Amount_invested_monthly   95521 non-null   object \n",
      " 25  Payment_Behaviour         100000 non-null  object \n",
      " 26  Monthly_Balance           98800 non-null   object \n",
      " 27  Credit_Score              100000 non-null  object \n",
      "dtypes: float64(4), int64(4), object(20)\n",
      "memory usage: 21.4+ MB\n"
     ]
    }
   ],
   "source": [
    "df_train.info()"
   ]
  },
  {
   "cell_type": "markdown",
   "id": "99ec61cd",
   "metadata": {
    "papermill": {
     "duration": 0.010477,
     "end_time": "2023-08-02T15:02:37.973902",
     "exception": false,
     "start_time": "2023-08-02T15:02:37.963425",
     "status": "completed"
    },
    "tags": []
   },
   "source": [
    "**Observations:**\n",
    "\n",
    "1. There are missing Values in some of the columns:\n",
    "- Name; Monthly Inhand Salary; Type of Loan, etc.\n",
    "2. The dataset has both numerical and string values.\n",
    "\n",
    "3. Some values potentially need data type transformation\n",
    "- Annual Income, Credit History Age, Monthly Balance, on a first glance."
   ]
  },
  {
   "cell_type": "code",
   "execution_count": 7,
   "id": "2afc95fd",
   "metadata": {
    "execution": {
     "iopub.execute_input": "2023-08-02T15:02:37.998375Z",
     "iopub.status.busy": "2023-08-02T15:02:37.996792Z",
     "iopub.status.idle": "2023-08-02T15:02:38.054388Z",
     "shell.execute_reply": "2023-08-02T15:02:38.052645Z"
    },
    "papermill": {
     "duration": 0.071668,
     "end_time": "2023-08-02T15:02:38.056254",
     "exception": false,
     "start_time": "2023-08-02T15:02:37.984586",
     "status": "completed"
    },
    "tags": []
   },
   "outputs": [
    {
     "data": {
      "text/html": [
       "<div>\n",
       "<style scoped>\n",
       "    .dataframe tbody tr th:only-of-type {\n",
       "        vertical-align: middle;\n",
       "    }\n",
       "\n",
       "    .dataframe tbody tr th {\n",
       "        vertical-align: top;\n",
       "    }\n",
       "\n",
       "    .dataframe thead th {\n",
       "        text-align: right;\n",
       "    }\n",
       "</style>\n",
       "<table border=\"1\" class=\"dataframe\">\n",
       "  <thead>\n",
       "    <tr style=\"text-align: right;\">\n",
       "      <th></th>\n",
       "      <th>count</th>\n",
       "      <th>mean</th>\n",
       "      <th>std</th>\n",
       "      <th>min</th>\n",
       "      <th>25%</th>\n",
       "      <th>50%</th>\n",
       "      <th>75%</th>\n",
       "      <th>max</th>\n",
       "    </tr>\n",
       "  </thead>\n",
       "  <tbody>\n",
       "    <tr>\n",
       "      <th>Monthly_Inhand_Salary</th>\n",
       "      <td>84998.0</td>\n",
       "      <td>4194.170850</td>\n",
       "      <td>3183.686167</td>\n",
       "      <td>303.645417</td>\n",
       "      <td>1625.568229</td>\n",
       "      <td>3093.745000</td>\n",
       "      <td>5957.448333</td>\n",
       "      <td>15204.633333</td>\n",
       "    </tr>\n",
       "    <tr>\n",
       "      <th>Num_Bank_Accounts</th>\n",
       "      <td>100000.0</td>\n",
       "      <td>17.091280</td>\n",
       "      <td>117.404834</td>\n",
       "      <td>-1.000000</td>\n",
       "      <td>3.000000</td>\n",
       "      <td>6.000000</td>\n",
       "      <td>7.000000</td>\n",
       "      <td>1798.000000</td>\n",
       "    </tr>\n",
       "    <tr>\n",
       "      <th>Num_Credit_Card</th>\n",
       "      <td>100000.0</td>\n",
       "      <td>22.474430</td>\n",
       "      <td>129.057410</td>\n",
       "      <td>0.000000</td>\n",
       "      <td>4.000000</td>\n",
       "      <td>5.000000</td>\n",
       "      <td>7.000000</td>\n",
       "      <td>1499.000000</td>\n",
       "    </tr>\n",
       "    <tr>\n",
       "      <th>Interest_Rate</th>\n",
       "      <td>100000.0</td>\n",
       "      <td>72.466040</td>\n",
       "      <td>466.422621</td>\n",
       "      <td>1.000000</td>\n",
       "      <td>8.000000</td>\n",
       "      <td>13.000000</td>\n",
       "      <td>20.000000</td>\n",
       "      <td>5797.000000</td>\n",
       "    </tr>\n",
       "    <tr>\n",
       "      <th>Delay_from_due_date</th>\n",
       "      <td>100000.0</td>\n",
       "      <td>21.068780</td>\n",
       "      <td>14.860104</td>\n",
       "      <td>-5.000000</td>\n",
       "      <td>10.000000</td>\n",
       "      <td>18.000000</td>\n",
       "      <td>28.000000</td>\n",
       "      <td>67.000000</td>\n",
       "    </tr>\n",
       "    <tr>\n",
       "      <th>Num_Credit_Inquiries</th>\n",
       "      <td>98035.0</td>\n",
       "      <td>27.754251</td>\n",
       "      <td>193.177339</td>\n",
       "      <td>0.000000</td>\n",
       "      <td>3.000000</td>\n",
       "      <td>6.000000</td>\n",
       "      <td>9.000000</td>\n",
       "      <td>2597.000000</td>\n",
       "    </tr>\n",
       "    <tr>\n",
       "      <th>Credit_Utilization_Ratio</th>\n",
       "      <td>100000.0</td>\n",
       "      <td>32.285173</td>\n",
       "      <td>5.116875</td>\n",
       "      <td>20.000000</td>\n",
       "      <td>28.052567</td>\n",
       "      <td>32.305784</td>\n",
       "      <td>36.496663</td>\n",
       "      <td>50.000000</td>\n",
       "    </tr>\n",
       "    <tr>\n",
       "      <th>Total_EMI_per_month</th>\n",
       "      <td>100000.0</td>\n",
       "      <td>1403.118217</td>\n",
       "      <td>8306.041270</td>\n",
       "      <td>0.000000</td>\n",
       "      <td>30.306660</td>\n",
       "      <td>69.249473</td>\n",
       "      <td>161.224249</td>\n",
       "      <td>82331.000000</td>\n",
       "    </tr>\n",
       "  </tbody>\n",
       "</table>\n",
       "</div>"
      ],
      "text/plain": [
       "                             count         mean          std         min  \\\n",
       "Monthly_Inhand_Salary      84998.0  4194.170850  3183.686167  303.645417   \n",
       "Num_Bank_Accounts         100000.0    17.091280   117.404834   -1.000000   \n",
       "Num_Credit_Card           100000.0    22.474430   129.057410    0.000000   \n",
       "Interest_Rate             100000.0    72.466040   466.422621    1.000000   \n",
       "Delay_from_due_date       100000.0    21.068780    14.860104   -5.000000   \n",
       "Num_Credit_Inquiries       98035.0    27.754251   193.177339    0.000000   \n",
       "Credit_Utilization_Ratio  100000.0    32.285173     5.116875   20.000000   \n",
       "Total_EMI_per_month       100000.0  1403.118217  8306.041270    0.000000   \n",
       "\n",
       "                                  25%          50%          75%           max  \n",
       "Monthly_Inhand_Salary     1625.568229  3093.745000  5957.448333  15204.633333  \n",
       "Num_Bank_Accounts            3.000000     6.000000     7.000000   1798.000000  \n",
       "Num_Credit_Card              4.000000     5.000000     7.000000   1499.000000  \n",
       "Interest_Rate                8.000000    13.000000    20.000000   5797.000000  \n",
       "Delay_from_due_date         10.000000    18.000000    28.000000     67.000000  \n",
       "Num_Credit_Inquiries         3.000000     6.000000     9.000000   2597.000000  \n",
       "Credit_Utilization_Ratio    28.052567    32.305784    36.496663     50.000000  \n",
       "Total_EMI_per_month         30.306660    69.249473   161.224249  82331.000000  "
      ]
     },
     "execution_count": 7,
     "metadata": {},
     "output_type": "execute_result"
    }
   ],
   "source": [
    "# Check Values for fields with numerical types\n",
    "df_train.describe().T"
   ]
  },
  {
   "cell_type": "code",
   "execution_count": 8,
   "id": "033f90be",
   "metadata": {
    "execution": {
     "iopub.execute_input": "2023-08-02T15:02:38.080026Z",
     "iopub.status.busy": "2023-08-02T15:02:38.079716Z",
     "iopub.status.idle": "2023-08-02T15:02:38.439801Z",
     "shell.execute_reply": "2023-08-02T15:02:38.438426Z"
    },
    "papermill": {
     "duration": 0.374305,
     "end_time": "2023-08-02T15:02:38.441762",
     "exception": false,
     "start_time": "2023-08-02T15:02:38.067457",
     "status": "completed"
    },
    "tags": []
   },
   "outputs": [
    {
     "data": {
      "text/html": [
       "<div>\n",
       "<style scoped>\n",
       "    .dataframe tbody tr th:only-of-type {\n",
       "        vertical-align: middle;\n",
       "    }\n",
       "\n",
       "    .dataframe tbody tr th {\n",
       "        vertical-align: top;\n",
       "    }\n",
       "\n",
       "    .dataframe thead th {\n",
       "        text-align: right;\n",
       "    }\n",
       "</style>\n",
       "<table border=\"1\" class=\"dataframe\">\n",
       "  <thead>\n",
       "    <tr style=\"text-align: right;\">\n",
       "      <th></th>\n",
       "      <th>count</th>\n",
       "      <th>unique</th>\n",
       "      <th>top</th>\n",
       "      <th>freq</th>\n",
       "    </tr>\n",
       "  </thead>\n",
       "  <tbody>\n",
       "    <tr>\n",
       "      <th>ID</th>\n",
       "      <td>100000</td>\n",
       "      <td>100000</td>\n",
       "      <td>0x1602</td>\n",
       "      <td>1</td>\n",
       "    </tr>\n",
       "    <tr>\n",
       "      <th>Customer_ID</th>\n",
       "      <td>100000</td>\n",
       "      <td>12500</td>\n",
       "      <td>CUS_0xd40</td>\n",
       "      <td>8</td>\n",
       "    </tr>\n",
       "    <tr>\n",
       "      <th>Month</th>\n",
       "      <td>100000</td>\n",
       "      <td>8</td>\n",
       "      <td>January</td>\n",
       "      <td>12500</td>\n",
       "    </tr>\n",
       "    <tr>\n",
       "      <th>Name</th>\n",
       "      <td>90015</td>\n",
       "      <td>10139</td>\n",
       "      <td>Langep</td>\n",
       "      <td>44</td>\n",
       "    </tr>\n",
       "    <tr>\n",
       "      <th>Age</th>\n",
       "      <td>100000</td>\n",
       "      <td>1788</td>\n",
       "      <td>38</td>\n",
       "      <td>2833</td>\n",
       "    </tr>\n",
       "    <tr>\n",
       "      <th>SSN</th>\n",
       "      <td>100000</td>\n",
       "      <td>12501</td>\n",
       "      <td>#F%$D@*&amp;8</td>\n",
       "      <td>5572</td>\n",
       "    </tr>\n",
       "    <tr>\n",
       "      <th>Occupation</th>\n",
       "      <td>100000</td>\n",
       "      <td>16</td>\n",
       "      <td>_______</td>\n",
       "      <td>7062</td>\n",
       "    </tr>\n",
       "    <tr>\n",
       "      <th>Annual_Income</th>\n",
       "      <td>100000</td>\n",
       "      <td>18940</td>\n",
       "      <td>36585.12</td>\n",
       "      <td>16</td>\n",
       "    </tr>\n",
       "    <tr>\n",
       "      <th>Num_of_Loan</th>\n",
       "      <td>100000</td>\n",
       "      <td>434</td>\n",
       "      <td>3</td>\n",
       "      <td>14386</td>\n",
       "    </tr>\n",
       "    <tr>\n",
       "      <th>Type_of_Loan</th>\n",
       "      <td>88592</td>\n",
       "      <td>6260</td>\n",
       "      <td>Not Specified</td>\n",
       "      <td>1408</td>\n",
       "    </tr>\n",
       "    <tr>\n",
       "      <th>Num_of_Delayed_Payment</th>\n",
       "      <td>92998</td>\n",
       "      <td>749</td>\n",
       "      <td>19</td>\n",
       "      <td>5327</td>\n",
       "    </tr>\n",
       "    <tr>\n",
       "      <th>Changed_Credit_Limit</th>\n",
       "      <td>100000</td>\n",
       "      <td>4384</td>\n",
       "      <td>_</td>\n",
       "      <td>2091</td>\n",
       "    </tr>\n",
       "    <tr>\n",
       "      <th>Credit_Mix</th>\n",
       "      <td>100000</td>\n",
       "      <td>4</td>\n",
       "      <td>Standard</td>\n",
       "      <td>36479</td>\n",
       "    </tr>\n",
       "    <tr>\n",
       "      <th>Outstanding_Debt</th>\n",
       "      <td>100000</td>\n",
       "      <td>13178</td>\n",
       "      <td>1360.45</td>\n",
       "      <td>24</td>\n",
       "    </tr>\n",
       "    <tr>\n",
       "      <th>Credit_History_Age</th>\n",
       "      <td>90970</td>\n",
       "      <td>404</td>\n",
       "      <td>15 Years and 11 Months</td>\n",
       "      <td>446</td>\n",
       "    </tr>\n",
       "    <tr>\n",
       "      <th>Payment_of_Min_Amount</th>\n",
       "      <td>100000</td>\n",
       "      <td>3</td>\n",
       "      <td>Yes</td>\n",
       "      <td>52326</td>\n",
       "    </tr>\n",
       "    <tr>\n",
       "      <th>Amount_invested_monthly</th>\n",
       "      <td>95521</td>\n",
       "      <td>91049</td>\n",
       "      <td>__10000__</td>\n",
       "      <td>4305</td>\n",
       "    </tr>\n",
       "    <tr>\n",
       "      <th>Payment_Behaviour</th>\n",
       "      <td>100000</td>\n",
       "      <td>7</td>\n",
       "      <td>Low_spent_Small_value_payments</td>\n",
       "      <td>25513</td>\n",
       "    </tr>\n",
       "    <tr>\n",
       "      <th>Monthly_Balance</th>\n",
       "      <td>98800</td>\n",
       "      <td>98792</td>\n",
       "      <td>__-333333333333333333333333333__</td>\n",
       "      <td>9</td>\n",
       "    </tr>\n",
       "    <tr>\n",
       "      <th>Credit_Score</th>\n",
       "      <td>100000</td>\n",
       "      <td>3</td>\n",
       "      <td>Standard</td>\n",
       "      <td>53174</td>\n",
       "    </tr>\n",
       "  </tbody>\n",
       "</table>\n",
       "</div>"
      ],
      "text/plain": [
       "                          count  unique                               top  \\\n",
       "ID                       100000  100000                            0x1602   \n",
       "Customer_ID              100000   12500                         CUS_0xd40   \n",
       "Month                    100000       8                           January   \n",
       "Name                      90015   10139                            Langep   \n",
       "Age                      100000    1788                                38   \n",
       "SSN                      100000   12501                         #F%$D@*&8   \n",
       "Occupation               100000      16                           _______   \n",
       "Annual_Income            100000   18940                          36585.12   \n",
       "Num_of_Loan              100000     434                                 3   \n",
       "Type_of_Loan              88592    6260                     Not Specified   \n",
       "Num_of_Delayed_Payment    92998     749                                19   \n",
       "Changed_Credit_Limit     100000    4384                                 _   \n",
       "Credit_Mix               100000       4                          Standard   \n",
       "Outstanding_Debt         100000   13178                           1360.45   \n",
       "Credit_History_Age        90970     404            15 Years and 11 Months   \n",
       "Payment_of_Min_Amount    100000       3                               Yes   \n",
       "Amount_invested_monthly   95521   91049                         __10000__   \n",
       "Payment_Behaviour        100000       7    Low_spent_Small_value_payments   \n",
       "Monthly_Balance           98800   98792  __-333333333333333333333333333__   \n",
       "Credit_Score             100000       3                          Standard   \n",
       "\n",
       "                          freq  \n",
       "ID                           1  \n",
       "Customer_ID                  8  \n",
       "Month                    12500  \n",
       "Name                        44  \n",
       "Age                       2833  \n",
       "SSN                       5572  \n",
       "Occupation                7062  \n",
       "Annual_Income               16  \n",
       "Num_of_Loan              14386  \n",
       "Type_of_Loan              1408  \n",
       "Num_of_Delayed_Payment    5327  \n",
       "Changed_Credit_Limit      2091  \n",
       "Credit_Mix               36479  \n",
       "Outstanding_Debt            24  \n",
       "Credit_History_Age         446  \n",
       "Payment_of_Min_Amount    52326  \n",
       "Amount_invested_monthly   4305  \n",
       "Payment_Behaviour        25513  \n",
       "Monthly_Balance              9  \n",
       "Credit_Score             53174  "
      ]
     },
     "execution_count": 8,
     "metadata": {},
     "output_type": "execute_result"
    }
   ],
   "source": [
    "# Statistical Values for non-numerical fields:\n",
    "df_train.describe(exclude = np.number).T"
   ]
  },
  {
   "cell_type": "markdown",
   "id": "d6cb3252",
   "metadata": {
    "papermill": {
     "duration": 0.011153,
     "end_time": "2023-08-02T15:02:38.464496",
     "exception": false,
     "start_time": "2023-08-02T15:02:38.453343",
     "status": "completed"
    },
    "tags": []
   },
   "source": [
    "**Observations:**\n",
    "1. We need to deal with outliers in some numerical fields.\n",
    "2. Customer_ID has only 12500 unique values => 12500 customers\n",
    "3. Month has 8 unique values, need to analyze which months are missing.\n",
    "3. Age has 1788 unique values, given the normal human lifespan, this needs to be accounted for.\n",
    "4. SSN has 12501 unique values, given 12500 customers, "
   ]
  },
  {
   "cell_type": "markdown",
   "id": "e1774856",
   "metadata": {
    "papermill": {
     "duration": 0.011457,
     "end_time": "2023-08-02T15:02:38.487665",
     "exception": false,
     "start_time": "2023-08-02T15:02:38.476208",
     "status": "completed"
    },
    "tags": []
   },
   "source": [
    "### <span style = 'color:#4415CC'> II. Helper Functions </span> <a class = \"anchor\" id = \"functions\"></a>"
   ]
  },
  {
   "cell_type": "code",
   "execution_count": 9,
   "id": "f7f09f9e",
   "metadata": {
    "execution": {
     "iopub.execute_input": "2023-08-02T15:02:38.512969Z",
     "iopub.status.busy": "2023-08-02T15:02:38.512600Z",
     "iopub.status.idle": "2023-08-02T15:02:38.518741Z",
     "shell.execute_reply": "2023-08-02T15:02:38.517257Z"
    },
    "papermill": {
     "duration": 0.02184,
     "end_time": "2023-08-02T15:02:38.521324",
     "exception": false,
     "start_time": "2023-08-02T15:02:38.499484",
     "status": "completed"
    },
    "tags": []
   },
   "outputs": [],
   "source": [
    "def col_details(df, column):\n",
    "    print(\"Details of\", column, \"column with a DataType: \", df[column].dtype)\n",
    "    \n",
    "    # Check for null values\n",
    "    null_count = df[column].isnull().sum()\n",
    "    if null_count == 0:\n",
    "        print(\"\\nNo null values\")\n",
    "    else: print(\"\\nThere are \", null_count, \" null values\")\n",
    "        \n",
    "    #Number of Unique Values\n",
    "    print(\"\\nNumber of Unique Values: \", df[column].nunique())\n",
    "    \n",
    "    #Column Distribution\n",
    "    print(\"\\nColumn Distribution:\\n\")\n",
    "    print(df[column].value_counts())"
   ]
  },
  {
   "cell_type": "code",
   "execution_count": 10,
   "id": "29a68428",
   "metadata": {
    "execution": {
     "iopub.execute_input": "2023-08-02T15:02:38.547420Z",
     "iopub.status.busy": "2023-08-02T15:02:38.546952Z",
     "iopub.status.idle": "2023-08-02T15:02:38.553502Z",
     "shell.execute_reply": "2023-08-02T15:02:38.551998Z"
    },
    "papermill": {
     "duration": 0.021442,
     "end_time": "2023-08-02T15:02:38.555660",
     "exception": false,
     "start_time": "2023-08-02T15:02:38.534218",
     "status": "completed"
    },
    "tags": []
   },
   "outputs": [],
   "source": [
    "def fillna_with_group_mode(df, groupby, column):\n",
    "    print(\"\\n # of missing values before filling with group mode: \", df[column].isnull().sum())\n",
    "    \n",
    "    # Fill with local mode\n",
    "    group_mode = df.groupby(groupby)[column].transform(lambda x: x.mode().iat[0])\n",
    "    df[column] = df[column].fillna(group_mode)\n",
    "    \n",
    "    print(\"\\n # of missing values after fill:\", df[column].isnull().sum())"
   ]
  },
  {
   "cell_type": "code",
   "execution_count": 11,
   "id": "3416c9d5",
   "metadata": {
    "execution": {
     "iopub.execute_input": "2023-08-02T15:02:38.582873Z",
     "iopub.status.busy": "2023-08-02T15:02:38.582455Z",
     "iopub.status.idle": "2023-08-02T15:02:38.588132Z",
     "shell.execute_reply": "2023-08-02T15:02:38.587096Z"
    },
    "papermill": {
     "duration": 0.021248,
     "end_time": "2023-08-02T15:02:38.590441",
     "exception": false,
     "start_time": "2023-08-02T15:02:38.569193",
     "status": "completed"
    },
    "tags": []
   },
   "outputs": [],
   "source": [
    "def clean_categorical_field(df, groupby, column, replace_value = None):\n",
    "    print(\"\\n-----------------------\\/------------------------------\")\n",
    "    \n",
    "    # Replace with dummy value\n",
    "    if replace_value!=None:\n",
    "        df[column] = df[column].replace(replace_value,np.nan)\n",
    "        print(f\"\\nGarbage value {replace_value} is replaced\")\n",
    "\n",
    "    fillna_with_group_mode(df,groupby,column)"
   ]
  },
  {
   "cell_type": "code",
   "execution_count": 12,
   "id": "944b4060",
   "metadata": {
    "execution": {
     "iopub.execute_input": "2023-08-02T15:02:38.615995Z",
     "iopub.status.busy": "2023-08-02T15:02:38.615627Z",
     "iopub.status.idle": "2023-08-02T15:02:38.624662Z",
     "shell.execute_reply": "2023-08-02T15:02:38.623470Z"
    },
    "papermill": {
     "duration": 0.024393,
     "end_time": "2023-08-02T15:02:38.626698",
     "exception": false,
     "start_time": "2023-08-02T15:02:38.602305",
     "status": "completed"
    },
    "tags": []
   },
   "outputs": [],
   "source": [
    "# As we saw in the first observation, we need to handle Outliers\n",
    "# this functions will handle those and missing values for a column.\n",
    "def fix_inconsistent_values(df, groupby, column):\n",
    "    print(\"\\n Current Min, Max Values: \", df[column].apply([min, max]), sep = '\\n', end = '\\n')\n",
    "    \n",
    "    df_drop = df[df[column].notna()].groupby(groupby)[column].apply(list)\n",
    "    x, y = df_drop.apply(lambda x: stats.mode(x)).apply([min, max])\n",
    "    mini, maxi = x[0][0], y[0][0]\n",
    "    \n",
    "    # Assign NaN to inconsistencies\n",
    "    col = df[column].apply(lambda x: np.NaN if ((x < mini) | (x > maxi) | x < 0) else x)\n",
    "    \n",
    "    # Fill with local mode\n",
    "    group_mode = df.groupby(groupby)[column].transform(lambda x: x.mode()[0] if not x.mode().empty else np.NaN)\n",
    "    df[column] = col.fillna(group_mode)\n",
    "    df[column].fillna(df[column].mean(), inplace = True)\n",
    "    \n",
    "    print(\"\\nAfter Cleaning Min, Max Values:\", df[column].apply([min, max]), sep='\\n', end='\\n') \n",
    "    print(\"\\nNo. of Unique values after Cleaning:\",df[column].nunique())\n",
    "    print(\"\\nNo. of Null values after Cleaning:\",df[column].isnull().sum())"
   ]
  },
  {
   "cell_type": "code",
   "execution_count": 13,
   "id": "fda12819",
   "metadata": {
    "execution": {
     "iopub.execute_input": "2023-08-02T15:02:38.651730Z",
     "iopub.status.busy": "2023-08-02T15:02:38.651354Z",
     "iopub.status.idle": "2023-08-02T15:02:38.657915Z",
     "shell.execute_reply": "2023-08-02T15:02:38.656555Z"
    },
    "papermill": {
     "duration": 0.021407,
     "end_time": "2023-08-02T15:02:38.659911",
     "exception": false,
     "start_time": "2023-08-02T15:02:38.638504",
     "status": "completed"
    },
    "tags": []
   },
   "outputs": [],
   "source": [
    "def clean_numerical_field(df, groupby, column, strip = None, datatype = None, replace_value = None):\n",
    "    \n",
    "    # Replace with dummy value\n",
    "    if replace_value != None:\n",
    "        df[column] = df[column].replace(replace_value, np.nan)\n",
    "        print(f\"\\nGarbage value {replace_value} is replaced\")\n",
    "        \n",
    "    fix_inconsistent_values(df, groupby, column)    "
   ]
  },
  {
   "cell_type": "code",
   "execution_count": 14,
   "id": "f9794ee0",
   "metadata": {
    "execution": {
     "iopub.execute_input": "2023-08-02T15:02:38.685770Z",
     "iopub.status.busy": "2023-08-02T15:02:38.685404Z",
     "iopub.status.idle": "2023-08-02T15:02:38.691980Z",
     "shell.execute_reply": "2023-08-02T15:02:38.690652Z"
    },
    "papermill": {
     "duration": 0.022314,
     "end_time": "2023-08-02T15:02:38.694027",
     "exception": false,
     "start_time": "2023-08-02T15:02:38.671713",
     "status": "completed"
    },
    "tags": []
   },
   "outputs": [],
   "source": [
    "def countplot(df, column, display_name, rotation = 0):\n",
    "    palette = \"deep\"\n",
    "    sns.set_palette(palette)\n",
    "    \n",
    "    sns.countplot(data = df, x = column)\n",
    "    \n",
    "    plt.xlabel(f'{display_name}')\n",
    "    plt.ylabel('Record Count')\n",
    "    plt.title(f'\\n{display_name} Distribution')\n",
    "    plt.xticks(rotation = rotation)\n",
    "    \n",
    "    plt.show()"
   ]
  },
  {
   "cell_type": "code",
   "execution_count": 15,
   "id": "8ff67473",
   "metadata": {
    "execution": {
     "iopub.execute_input": "2023-08-02T15:02:38.719239Z",
     "iopub.status.busy": "2023-08-02T15:02:38.718874Z",
     "iopub.status.idle": "2023-08-02T15:02:38.726478Z",
     "shell.execute_reply": "2023-08-02T15:02:38.725198Z"
    },
    "papermill": {
     "duration": 0.023065,
     "end_time": "2023-08-02T15:02:38.728972",
     "exception": false,
     "start_time": "2023-08-02T15:02:38.705907",
     "status": "completed"
    },
    "tags": []
   },
   "outputs": [],
   "source": [
    "def displot(df, column, display_name, rotation = 0, bins = 20):\n",
    "    print(\"\\n-----------------------\\/------------------------------\")\n",
    "    palette = 'deep'\n",
    "    sns.set_palette(palette)\n",
    "    \n",
    "    sns.displot(data = df, x = column, kde = True, bins = bins)\n",
    "    \n",
    "    plt.xlabel(f'\\n{display_name} Distribution')\n",
    "    plt.ylabel('Number of Records')\n",
    "    plt.title(f'{display_name} Distribution')\n",
    "    plt.xticks(rotation=rotation)\n",
    "    \n",
    "    plt.show()"
   ]
  },
  {
   "cell_type": "code",
   "execution_count": 16,
   "id": "9b3e4025",
   "metadata": {
    "execution": {
     "iopub.execute_input": "2023-08-02T15:02:38.753809Z",
     "iopub.status.busy": "2023-08-02T15:02:38.753424Z",
     "iopub.status.idle": "2023-08-02T15:02:38.759765Z",
     "shell.execute_reply": "2023-08-02T15:02:38.758791Z"
    },
    "papermill": {
     "duration": 0.020855,
     "end_time": "2023-08-02T15:02:38.761664",
     "exception": false,
     "start_time": "2023-08-02T15:02:38.740809",
     "status": "completed"
    },
    "tags": []
   },
   "outputs": [],
   "source": [
    "def stacked_bar(df, column1, column2, rotation = 0):\n",
    "    palette = \"deep\"\n",
    "    sns.set_palette(palette)\n",
    "    \n",
    "    pd.crosstab(df[column1], df[column2]).plot(kind = 'bar', stacked = True)\n",
    "    \n",
    "    plt.xlabel(f'{column1}')\n",
    "    plt.ylabel('Record Count')\n",
    "    plt.title(f'\\n{column1} & {column2} Distribution')\n",
    "    plt.xticks(rotation = rotation)\n",
    "    \n",
    "    plt.show()"
   ]
  },
  {
   "cell_type": "markdown",
   "id": "9f1f38fa",
   "metadata": {
    "papermill": {
     "duration": 0.011293,
     "end_time": "2023-08-02T15:02:38.784823",
     "exception": false,
     "start_time": "2023-08-02T15:02:38.773530",
     "status": "completed"
    },
    "tags": []
   },
   "source": [
    "### <span style = 'color:#4415CC'> III. Categorical Variables </span> <a class = \"anchor\" id = \"categorical_variables\"></a>"
   ]
  },
  {
   "cell_type": "markdown",
   "id": "60ac8662",
   "metadata": {
    "papermill": {
     "duration": 0.011546,
     "end_time": "2023-08-02T15:02:38.808146",
     "exception": false,
     "start_time": "2023-08-02T15:02:38.796600",
     "status": "completed"
    },
    "tags": []
   },
   "source": [
    "### ID\n",
    "**Summary**\n",
    "\n",
    "Distinct records - 10,000\n",
    "\n",
    "No null values."
   ]
  },
  {
   "cell_type": "code",
   "execution_count": 17,
   "id": "0e7968e8",
   "metadata": {
    "execution": {
     "iopub.execute_input": "2023-08-02T15:02:38.833347Z",
     "iopub.status.busy": "2023-08-02T15:02:38.832986Z",
     "iopub.status.idle": "2023-08-02T15:02:38.904680Z",
     "shell.execute_reply": "2023-08-02T15:02:38.903116Z"
    },
    "papermill": {
     "duration": 0.087122,
     "end_time": "2023-08-02T15:02:38.906899",
     "exception": false,
     "start_time": "2023-08-02T15:02:38.819777",
     "status": "completed"
    },
    "tags": []
   },
   "outputs": [
    {
     "name": "stdout",
     "output_type": "stream",
     "text": [
      "Details of ID column with a DataType:  object\n",
      "\n",
      "No null values\n",
      "\n",
      "Number of Unique Values:  100000\n",
      "\n",
      "Column Distribution:\n",
      "\n",
      "0x1602     1\n",
      "0x19c88    1\n",
      "0x19caa    1\n",
      "0x19ca5    1\n",
      "0x19ca4    1\n",
      "          ..\n",
      "0xd94d     1\n",
      "0xd94c     1\n",
      "0xd94b     1\n",
      "0xd94a     1\n",
      "0x25fed    1\n",
      "Name: ID, Length: 100000, dtype: int64\n"
     ]
    }
   ],
   "source": [
    "# Details\n",
    "col_details(df_train, 'ID')"
   ]
  },
  {
   "cell_type": "code",
   "execution_count": 18,
   "id": "94fbaeda",
   "metadata": {
    "execution": {
     "iopub.execute_input": "2023-08-02T15:02:38.933046Z",
     "iopub.status.busy": "2023-08-02T15:02:38.932666Z",
     "iopub.status.idle": "2023-08-02T15:02:38.959457Z",
     "shell.execute_reply": "2023-08-02T15:02:38.958322Z"
    },
    "papermill": {
     "duration": 0.043303,
     "end_time": "2023-08-02T15:02:38.961656",
     "exception": false,
     "start_time": "2023-08-02T15:02:38.918353",
     "status": "completed"
    },
    "tags": []
   },
   "outputs": [
    {
     "name": "stdout",
     "output_type": "stream",
     "text": [
      "Details of Customer_ID column with a DataType:  object\n",
      "\n",
      "No null values\n",
      "\n",
      "Number of Unique Values:  12500\n",
      "\n",
      "Column Distribution:\n",
      "\n",
      "CUS_0xd40     8\n",
      "CUS_0x9bf4    8\n",
      "CUS_0x5ae3    8\n",
      "CUS_0xbe9a    8\n",
      "CUS_0x4874    8\n",
      "             ..\n",
      "CUS_0x2eb4    8\n",
      "CUS_0x7863    8\n",
      "CUS_0x9d89    8\n",
      "CUS_0xc045    8\n",
      "CUS_0x942c    8\n",
      "Name: Customer_ID, Length: 12500, dtype: int64\n"
     ]
    }
   ],
   "source": [
    "# Details\n",
    "col_details(df_train, 'Customer_ID')"
   ]
  },
  {
   "cell_type": "markdown",
   "id": "00fcc2d7",
   "metadata": {
    "papermill": {
     "duration": 0.011319,
     "end_time": "2023-08-02T15:02:38.984786",
     "exception": false,
     "start_time": "2023-08-02T15:02:38.973467",
     "status": "completed"
    },
    "tags": []
   },
   "source": [
    "### Customer ID\n",
    "**Summary**\n",
    "\n",
    "Unique records: 12,500\n",
    "\n",
    "Customers can have different credit scores. For example, their credit score may change over time."
   ]
  },
  {
   "cell_type": "code",
   "execution_count": 19,
   "id": "f685cde4",
   "metadata": {
    "execution": {
     "iopub.execute_input": "2023-08-02T15:02:39.010279Z",
     "iopub.status.busy": "2023-08-02T15:02:39.009862Z",
     "iopub.status.idle": "2023-08-02T15:02:39.271405Z",
     "shell.execute_reply": "2023-08-02T15:02:39.270260Z"
    },
    "papermill": {
     "duration": 0.277337,
     "end_time": "2023-08-02T15:02:39.273863",
     "exception": false,
     "start_time": "2023-08-02T15:02:38.996526",
     "status": "completed"
    },
    "tags": []
   },
   "outputs": [
    {
     "name": "stdout",
     "output_type": "stream",
     "text": [
      "Details of Credit_Score column with a DataType:  object\n",
      "\n",
      "No null values\n",
      "\n",
      "Number of Unique Values:  3\n",
      "\n",
      "Column Distribution:\n",
      "\n",
      "Standard    53174\n",
      "Poor        28998\n",
      "Good        17828\n",
      "Name: Credit_Score, dtype: int64\n"
     ]
    },
    {
     "data": {
      "image/png": "[encoded data removed]",
      "text/plain": [
       "<Figure size 640x480 with 1 Axes>"
      ]
     },
     "metadata": {},
     "output_type": "display_data"
    }
   ],
   "source": [
    "column_name = 'Credit_Score'\n",
    "display_name = 'Credit Score'\n",
    "\n",
    "# Details\n",
    "col_details(df_train, column_name)\n",
    "\n",
    "# Plot Graph\n",
    "countplot(df_train, column_name, display_name)"
   ]
  },
  {
   "cell_type": "markdown",
   "id": "eefbb1c5",
   "metadata": {
    "papermill": {
     "duration": 0.012125,
     "end_time": "2023-08-02T15:02:39.298772",
     "exception": false,
     "start_time": "2023-08-02T15:02:39.286647",
     "status": "completed"
    },
    "tags": []
   },
   "source": [
    "### Credit Score\n",
    "**Summary**\n",
    "There are 3 unique credit scores - Standard, Good, Poor. \n",
    "\n",
    "No null values in the Credit Scores.\n",
    "\n",
    "The distributions is: *Standard - 53%, Poor - 29% and Good - 17%*"
   ]
  },
  {
   "cell_type": "code",
   "execution_count": 20,
   "id": "6c3661a9",
   "metadata": {
    "execution": {
     "iopub.execute_input": "2023-08-02T15:02:39.326029Z",
     "iopub.status.busy": "2023-08-02T15:02:39.324400Z",
     "iopub.status.idle": "2023-08-02T15:02:39.659649Z",
     "shell.execute_reply": "2023-08-02T15:02:39.658275Z"
    },
    "papermill": {
     "duration": 0.350593,
     "end_time": "2023-08-02T15:02:39.661802",
     "exception": false,
     "start_time": "2023-08-02T15:02:39.311209",
     "status": "completed"
    },
    "tags": []
   },
   "outputs": [
    {
     "name": "stdout",
     "output_type": "stream",
     "text": [
      "Details of Month column with a DataType:  object\n",
      "\n",
      "No null values\n",
      "\n",
      "Number of Unique Values:  8\n",
      "\n",
      "Column Distribution:\n",
      "\n",
      "January     12500\n",
      "February    12500\n",
      "March       12500\n",
      "April       12500\n",
      "May         12500\n",
      "June        12500\n",
      "July        12500\n",
      "August      12500\n",
      "Name: Month, dtype: int64\n"
     ]
    },
    {
     "data": {
      "image/png": "[encoded data removed]",
      "text/plain": [
       "<Figure size 640x480 with 1 Axes>"
      ]
     },
     "metadata": {},
     "output_type": "display_data"
    }
   ],
   "source": [
    "col_name = 'Month'\n",
    "\n",
    "col_details(df_train, col_name)\n",
    "\n",
    "stacked_bar(df_train, col_name, 'Credit_Score')"
   ]
  },
  {
   "cell_type": "markdown",
   "id": "11b61f97",
   "metadata": {
    "papermill": {
     "duration": 0.011923,
     "end_time": "2023-08-02T15:02:39.686341",
     "exception": false,
     "start_time": "2023-08-02T15:02:39.674418",
     "status": "completed"
    },
    "tags": []
   },
   "source": [
    "### Month\n",
    "\n",
    "**Summary**\n",
    "\n",
    "There are 8 months in the distribution Jan - Aug\n",
    "\n",
    "The data type needs to be converted to datetime so we can use it for model building"
   ]
  },
  {
   "cell_type": "markdown",
   "id": "ed3dc41e",
   "metadata": {
    "papermill": {
     "duration": 0.012152,
     "end_time": "2023-08-02T15:02:39.710874",
     "exception": false,
     "start_time": "2023-08-02T15:02:39.698722",
     "status": "completed"
    },
    "tags": []
   },
   "source": [
    "**Summary**\n",
    "\n",
    "There are 8 months in the distribution Jan - Aug\n",
    "\n",
    "The data type needs to be converted to datetime so we can use it for model building\n",
    "\n",
    "Similar distribution across months"
   ]
  },
  {
   "cell_type": "code",
   "execution_count": 21,
   "id": "5e55710c",
   "metadata": {
    "execution": {
     "iopub.execute_input": "2023-08-02T15:02:39.737982Z",
     "iopub.status.busy": "2023-08-02T15:02:39.737631Z",
     "iopub.status.idle": "2023-08-02T15:02:39.774097Z",
     "shell.execute_reply": "2023-08-02T15:02:39.772434Z"
    },
    "papermill": {
     "duration": 0.052213,
     "end_time": "2023-08-02T15:02:39.776388",
     "exception": false,
     "start_time": "2023-08-02T15:02:39.724175",
     "status": "completed"
    },
    "tags": []
   },
   "outputs": [],
   "source": [
    "# Convert to datetime\n",
    "df_train['Month'] = pd.to_datetime(df_train.Month, format = '%B').dt.month"
   ]
  },
  {
   "cell_type": "code",
   "execution_count": 22,
   "id": "08bd3abb",
   "metadata": {
    "execution": {
     "iopub.execute_input": "2023-08-02T15:02:39.803671Z",
     "iopub.status.busy": "2023-08-02T15:02:39.803202Z",
     "iopub.status.idle": "2023-08-02T15:02:39.826466Z",
     "shell.execute_reply": "2023-08-02T15:02:39.825448Z"
    },
    "papermill": {
     "duration": 0.040209,
     "end_time": "2023-08-02T15:02:39.829265",
     "exception": false,
     "start_time": "2023-08-02T15:02:39.789056",
     "status": "completed"
    },
    "tags": []
   },
   "outputs": [
    {
     "name": "stdout",
     "output_type": "stream",
     "text": [
      "Details of Name column with a DataType:  object\n",
      "\n",
      "There are  9985  null values\n",
      "\n",
      "Number of Unique Values:  10139\n",
      "\n",
      "Column Distribution:\n",
      "\n",
      "Langep            44\n",
      "Stevex            44\n",
      "Vaughanl          39\n",
      "Jessicad          39\n",
      "Raymondr          38\n",
      "                  ..\n",
      "Alina Selyukhg     4\n",
      "Habboushg          4\n",
      "Mortimerq          4\n",
      "Ronaldf            4\n",
      "Timothyl           3\n",
      "Name: Name, Length: 10139, dtype: int64\n"
     ]
    }
   ],
   "source": [
    "col_details(df_train, 'Name')"
   ]
  },
  {
   "cell_type": "markdown",
   "id": "5659e06b",
   "metadata": {
    "papermill": {
     "duration": 0.012382,
     "end_time": "2023-08-02T15:02:39.854315",
     "exception": false,
     "start_time": "2023-08-02T15:02:39.841933",
     "status": "completed"
    },
    "tags": []
   },
   "source": [
    "### Name\n",
    "\n",
    "**Summary**\n",
    "\n",
    "9985 Null values\n",
    "\n",
    "Assign the same name value to same Customer IDs"
   ]
  },
  {
   "cell_type": "code",
   "execution_count": 23,
   "id": "e16a5bb8",
   "metadata": {
    "execution": {
     "iopub.execute_input": "2023-08-02T15:02:39.882290Z",
     "iopub.status.busy": "2023-08-02T15:02:39.881880Z",
     "iopub.status.idle": "2023-08-02T15:02:43.032583Z",
     "shell.execute_reply": "2023-08-02T15:02:43.030924Z"
    },
    "papermill": {
     "duration": 3.167097,
     "end_time": "2023-08-02T15:02:43.034752",
     "exception": false,
     "start_time": "2023-08-02T15:02:39.867655",
     "status": "completed"
    },
    "tags": []
   },
   "outputs": [
    {
     "name": "stdout",
     "output_type": "stream",
     "text": [
      "\n",
      "-----------------------\\/------------------------------\n",
      "\n",
      " # of missing values before filling with group mode:  9985\n",
      "\n",
      " # of missing values after fill: 0\n"
     ]
    }
   ],
   "source": [
    "column_name = 'Name'\n",
    "group_by = 'Customer_ID'\n",
    "\n",
    "clean_categorical_field(df_train, group_by, column_name)"
   ]
  },
  {
   "cell_type": "code",
   "execution_count": 24,
   "id": "e4a3e376",
   "metadata": {
    "execution": {
     "iopub.execute_input": "2023-08-02T15:02:43.061840Z",
     "iopub.status.busy": "2023-08-02T15:02:43.061475Z",
     "iopub.status.idle": "2023-08-02T15:02:43.088583Z",
     "shell.execute_reply": "2023-08-02T15:02:43.086995Z"
    },
    "papermill": {
     "duration": 0.043318,
     "end_time": "2023-08-02T15:02:43.090910",
     "exception": false,
     "start_time": "2023-08-02T15:02:43.047592",
     "status": "completed"
    },
    "tags": []
   },
   "outputs": [
    {
     "name": "stdout",
     "output_type": "stream",
     "text": [
      "Details of SSN column with a DataType:  object\n",
      "\n",
      "No null values\n",
      "\n",
      "Number of Unique Values:  12501\n",
      "\n",
      "Column Distribution:\n",
      "\n",
      "#F%$D@*&8      5572\n",
      "078-73-5990       8\n",
      "486-78-3816       8\n",
      "750-67-7525       8\n",
      "903-50-0305       8\n",
      "               ... \n",
      "856-06-6147       4\n",
      "753-72-2651       4\n",
      "331-28-1921       4\n",
      "604-62-6133       4\n",
      "286-44-9634       4\n",
      "Name: SSN, Length: 12501, dtype: int64\n"
     ]
    }
   ],
   "source": [
    "col_details(df_train,'SSN')"
   ]
  },
  {
   "cell_type": "markdown",
   "id": "a087ae25",
   "metadata": {
    "papermill": {
     "duration": 0.012254,
     "end_time": "2023-08-02T15:02:43.115898",
     "exception": false,
     "start_time": "2023-08-02T15:02:43.103644",
     "status": "completed"
    },
    "tags": []
   },
   "source": [
    "### Name\n",
    "\n",
    "**Summary**\n",
    "There are 5572 garbage values\n",
    "\n",
    "Cleaning steps would be:\n",
    "1. Remove the garbage values\n",
    "2. Assign same SSN to each Cust ID"
   ]
  },
  {
   "cell_type": "code",
   "execution_count": 25,
   "id": "80dd3101",
   "metadata": {
    "execution": {
     "iopub.execute_input": "2023-08-02T15:02:43.143235Z",
     "iopub.status.busy": "2023-08-02T15:02:43.142856Z",
     "iopub.status.idle": "2023-08-02T15:02:46.251563Z",
     "shell.execute_reply": "2023-08-02T15:02:46.250303Z"
    },
    "papermill": {
     "duration": 3.125337,
     "end_time": "2023-08-02T15:02:46.254073",
     "exception": false,
     "start_time": "2023-08-02T15:02:43.128736",
     "status": "completed"
    },
    "tags": []
   },
   "outputs": [
    {
     "name": "stdout",
     "output_type": "stream",
     "text": [
      "\n",
      "-----------------------\\/------------------------------\n",
      "\n",
      "Garbage value #F%$D@*&8 is replaced\n",
      "\n",
      " # of missing values before filling with group mode:  5572\n",
      "\n",
      " # of missing values after fill: 0\n"
     ]
    }
   ],
   "source": [
    "column_name = 'SSN'\n",
    "group_by = 'Customer_ID'\n",
    "garbage_value = '#F%$D@*&8'\n",
    "\n",
    "clean_categorical_field(df_train, group_by, column_name, garbage_value)"
   ]
  },
  {
   "cell_type": "markdown",
   "id": "dc245dec",
   "metadata": {
    "papermill": {
     "duration": 0.012944,
     "end_time": "2023-08-02T15:02:46.280576",
     "exception": false,
     "start_time": "2023-08-02T15:02:46.267632",
     "status": "completed"
    },
    "tags": []
   },
   "source": [
    "### Occupation"
   ]
  },
  {
   "cell_type": "code",
   "execution_count": 26,
   "id": "1966beee",
   "metadata": {
    "execution": {
     "iopub.execute_input": "2023-08-02T15:02:46.309223Z",
     "iopub.status.busy": "2023-08-02T15:02:46.308813Z",
     "iopub.status.idle": "2023-08-02T15:02:46.332621Z",
     "shell.execute_reply": "2023-08-02T15:02:46.331205Z"
    },
    "papermill": {
     "duration": 0.040623,
     "end_time": "2023-08-02T15:02:46.334827",
     "exception": false,
     "start_time": "2023-08-02T15:02:46.294204",
     "status": "completed"
    },
    "tags": []
   },
   "outputs": [
    {
     "name": "stdout",
     "output_type": "stream",
     "text": [
      "Details of Occupation column with a DataType:  object\n",
      "\n",
      "No null values\n",
      "\n",
      "Number of Unique Values:  16\n",
      "\n",
      "Column Distribution:\n",
      "\n",
      "_______          7062\n",
      "Lawyer           6575\n",
      "Architect        6355\n",
      "Engineer         6350\n",
      "Scientist        6299\n",
      "Mechanic         6291\n",
      "Accountant       6271\n",
      "Developer        6235\n",
      "Media_Manager    6232\n",
      "Teacher          6215\n",
      "Entrepreneur     6174\n",
      "Doctor           6087\n",
      "Journalist       6085\n",
      "Manager          5973\n",
      "Musician         5911\n",
      "Writer           5885\n",
      "Name: Occupation, dtype: int64\n"
     ]
    }
   ],
   "source": [
    "col_details(df_train, 'Occupation')"
   ]
  },
  {
   "cell_type": "markdown",
   "id": "7e340f2b",
   "metadata": {
    "papermill": {
     "duration": 0.013113,
     "end_time": "2023-08-02T15:02:46.361179",
     "exception": false,
     "start_time": "2023-08-02T15:02:46.348066",
     "status": "completed"
    },
    "tags": []
   },
   "source": [
    "**Summary**\n",
    "Again, there is a garbage value '_____' in 7062 records\n",
    "\n",
    "Cleaning Steps\n",
    "1. Replace garbage value with np.nan (our dummy value)\n",
    "2. Assign same Occupation for each Customer ID\n",
    "3. Examine the distribution of Credit Score across occupations."
   ]
  },
  {
   "cell_type": "code",
   "execution_count": 27,
   "id": "a2f85811",
   "metadata": {
    "execution": {
     "iopub.execute_input": "2023-08-02T15:02:46.390278Z",
     "iopub.status.busy": "2023-08-02T15:02:46.389874Z",
     "iopub.status.idle": "2023-08-02T15:02:49.600969Z",
     "shell.execute_reply": "2023-08-02T15:02:49.599525Z"
    },
    "papermill": {
     "duration": 3.228033,
     "end_time": "2023-08-02T15:02:49.602877",
     "exception": false,
     "start_time": "2023-08-02T15:02:46.374844",
     "status": "completed"
    },
    "tags": []
   },
   "outputs": [
    {
     "name": "stdout",
     "output_type": "stream",
     "text": [
      "\n",
      "-----------------------\\/------------------------------\n",
      "\n",
      "Garbage value _______ is replaced\n",
      "\n",
      " # of missing values before filling with group mode:  7062\n",
      "\n",
      " # of missing values after fill: 0\n"
     ]
    },
    {
     "data": {
      "image/png": "[encoded data removed]",
      "text/plain": [
       "<Figure size 640x480 with 1 Axes>"
      ]
     },
     "metadata": {},
     "output_type": "display_data"
    }
   ],
   "source": [
    "column_name = 'Occupation'\n",
    "group_by = 'Customer_ID'\n",
    "garbage_value = '_______'\n",
    "display_name = 'Occupation'\n",
    "\n",
    "clean_categorical_field(df_train, group_by, column_name, garbage_value)\n",
    "\n",
    "# Plot\n",
    "stacked_bar(df_train, column_name, 'Credit_Score', rotation = 70)"
   ]
  },
  {
   "cell_type": "markdown",
   "id": "e46ae814",
   "metadata": {
    "papermill": {
     "duration": 0.014026,
     "end_time": "2023-08-02T15:02:49.631757",
     "exception": false,
     "start_time": "2023-08-02T15:02:49.617731",
     "status": "completed"
    },
    "tags": []
   },
   "source": [
    "### Type of Loan"
   ]
  },
  {
   "cell_type": "code",
   "execution_count": 28,
   "id": "32664dde",
   "metadata": {
    "execution": {
     "iopub.execute_input": "2023-08-02T15:02:49.663017Z",
     "iopub.status.busy": "2023-08-02T15:02:49.662652Z",
     "iopub.status.idle": "2023-08-02T15:02:49.684502Z",
     "shell.execute_reply": "2023-08-02T15:02:49.682851Z"
    },
    "papermill": {
     "duration": 0.039455,
     "end_time": "2023-08-02T15:02:49.686481",
     "exception": false,
     "start_time": "2023-08-02T15:02:49.647026",
     "status": "completed"
    },
    "tags": []
   },
   "outputs": [
    {
     "name": "stdout",
     "output_type": "stream",
     "text": [
      "Details of Type_of_Loan column with a DataType:  object\n",
      "\n",
      "There are  11408  null values\n",
      "\n",
      "Number of Unique Values:  6260\n",
      "\n",
      "Column Distribution:\n",
      "\n",
      "Not Specified                                                                                                                         1408\n",
      "Credit-Builder Loan                                                                                                                   1280\n",
      "Personal Loan                                                                                                                         1272\n",
      "Debt Consolidation Loan                                                                                                               1264\n",
      "Student Loan                                                                                                                          1240\n",
      "                                                                                                                                      ... \n",
      "Not Specified, Mortgage Loan, Auto Loan, and Payday Loan                                                                                 8\n",
      "Payday Loan, Mortgage Loan, Debt Consolidation Loan, and Student Loan                                                                    8\n",
      "Debt Consolidation Loan, Auto Loan, Personal Loan, Debt Consolidation Loan, Student Loan, and Credit-Builder Loan                        8\n",
      "Student Loan, Auto Loan, Student Loan, Credit-Builder Loan, Home Equity Loan, Debt Consolidation Loan, and Debt Consolidation Loan       8\n",
      "Personal Loan, Auto Loan, Mortgage Loan, Student Loan, and Student Loan                                                                  8\n",
      "Name: Type_of_Loan, Length: 6260, dtype: int64\n"
     ]
    }
   ],
   "source": [
    "col_details(df_train, 'Type_of_Loan')"
   ]
  },
  {
   "cell_type": "markdown",
   "id": "e85d385d",
   "metadata": {
    "papermill": {
     "duration": 0.014419,
     "end_time": "2023-08-02T15:02:49.715124",
     "exception": false,
     "start_time": "2023-08-02T15:02:49.700705",
     "status": "completed"
    },
    "tags": []
   },
   "source": [
    "**Summary**\n",
    "\n",
    "There are 11408 null values and 6260 Unique Values\n",
    "\n",
    "The unique values are the combinations of different loans, which is not an issue.\n",
    "\n",
    "For the null values, we can map them to Not Specified, as it is the perfect category for the occasion."
   ]
  },
  {
   "cell_type": "code",
   "execution_count": 29,
   "id": "b282ca46",
   "metadata": {
    "execution": {
     "iopub.execute_input": "2023-08-02T15:02:49.747013Z",
     "iopub.status.busy": "2023-08-02T15:02:49.746438Z",
     "iopub.status.idle": "2023-08-02T15:02:49.757063Z",
     "shell.execute_reply": "2023-08-02T15:02:49.755608Z"
    },
    "papermill": {
     "duration": 0.029267,
     "end_time": "2023-08-02T15:02:49.759504",
     "exception": false,
     "start_time": "2023-08-02T15:02:49.730237",
     "status": "completed"
    },
    "tags": []
   },
   "outputs": [],
   "source": [
    "df_train['Type_of_Loan'].replace([np.NaN], 'Not Specified', inplace = True)"
   ]
  },
  {
   "cell_type": "markdown",
   "id": "0b8d1d36",
   "metadata": {
    "papermill": {
     "duration": 0.013876,
     "end_time": "2023-08-02T15:02:49.787288",
     "exception": false,
     "start_time": "2023-08-02T15:02:49.773412",
     "status": "completed"
    },
    "tags": []
   },
   "source": [
    "### Credit Mix"
   ]
  },
  {
   "cell_type": "code",
   "execution_count": 30,
   "id": "bfa773a3",
   "metadata": {
    "execution": {
     "iopub.execute_input": "2023-08-02T15:02:49.818332Z",
     "iopub.status.busy": "2023-08-02T15:02:49.817521Z",
     "iopub.status.idle": "2023-08-02T15:02:49.837743Z",
     "shell.execute_reply": "2023-08-02T15:02:49.837009Z"
    },
    "papermill": {
     "duration": 0.038747,
     "end_time": "2023-08-02T15:02:49.839708",
     "exception": false,
     "start_time": "2023-08-02T15:02:49.800961",
     "status": "completed"
    },
    "tags": []
   },
   "outputs": [
    {
     "name": "stdout",
     "output_type": "stream",
     "text": [
      "Details of Credit_Mix column with a DataType:  object\n",
      "\n",
      "No null values\n",
      "\n",
      "Number of Unique Values:  4\n",
      "\n",
      "Column Distribution:\n",
      "\n",
      "Standard    36479\n",
      "Good        24337\n",
      "_           20195\n",
      "Bad         18989\n",
      "Name: Credit_Mix, dtype: int64\n"
     ]
    }
   ],
   "source": [
    "col_details(df_train, 'Credit_Mix')"
   ]
  },
  {
   "cell_type": "markdown",
   "id": "74a0e7e3",
   "metadata": {
    "papermill": {
     "duration": 0.014079,
     "end_time": "2023-08-02T15:02:49.868242",
     "exception": false,
     "start_time": "2023-08-02T15:02:49.854163",
     "status": "completed"
    },
    "tags": []
   },
   "source": [
    "**Summary**\n",
    "\n",
    "3 Types - Standard, Good, Bad\n",
    "\n",
    "20195 garbage values\n",
    "\n",
    "Same cleaning steps as before:\n",
    "1. Substitute the garbage value with np.nan\n",
    "2. Assign Credit Mix value for each Customer ID"
   ]
  },
  {
   "cell_type": "code",
   "execution_count": 31,
   "id": "01c8a44b",
   "metadata": {
    "execution": {
     "iopub.execute_input": "2023-08-02T15:02:49.898311Z",
     "iopub.status.busy": "2023-08-02T15:02:49.897761Z",
     "iopub.status.idle": "2023-08-02T15:02:53.179930Z",
     "shell.execute_reply": "2023-08-02T15:02:53.178354Z"
    },
    "papermill": {
     "duration": 3.300088,
     "end_time": "2023-08-02T15:02:53.182518",
     "exception": false,
     "start_time": "2023-08-02T15:02:49.882430",
     "status": "completed"
    },
    "tags": []
   },
   "outputs": [
    {
     "name": "stdout",
     "output_type": "stream",
     "text": [
      "\n",
      "-----------------------\\/------------------------------\n",
      "\n",
      "Garbage value _ is replaced\n",
      "\n",
      " # of missing values before filling with group mode:  20195\n",
      "\n",
      " # of missing values after fill: 0\n"
     ]
    },
    {
     "data": {
      "image/png": "[encoded data removed]",
      "text/plain": [
       "<Figure size 640x480 with 1 Axes>"
      ]
     },
     "metadata": {},
     "output_type": "display_data"
    }
   ],
   "source": [
    "column_name = 'Credit_Mix'\n",
    "group_by = 'Customer_ID'\n",
    "garbage_value = '_'\n",
    "\n",
    "clean_categorical_field(df_train, group_by, column_name, garbage_value)\n",
    "\n",
    "#Plot\n",
    "stacked_bar(df_train, column_name, 'Credit_Score', rotation = 75)"
   ]
  },
  {
   "cell_type": "markdown",
   "id": "6b0f7dfd",
   "metadata": {
    "papermill": {
     "duration": 0.014331,
     "end_time": "2023-08-02T15:02:53.211570",
     "exception": false,
     "start_time": "2023-08-02T15:02:53.197239",
     "status": "completed"
    },
    "tags": []
   },
   "source": [
    "### Payment of Minimum Amount"
   ]
  },
  {
   "cell_type": "code",
   "execution_count": 32,
   "id": "429e225a",
   "metadata": {
    "execution": {
     "iopub.execute_input": "2023-08-02T15:02:53.242821Z",
     "iopub.status.busy": "2023-08-02T15:02:53.242448Z",
     "iopub.status.idle": "2023-08-02T15:02:53.264321Z",
     "shell.execute_reply": "2023-08-02T15:02:53.262257Z"
    },
    "papermill": {
     "duration": 0.040774,
     "end_time": "2023-08-02T15:02:53.267010",
     "exception": false,
     "start_time": "2023-08-02T15:02:53.226236",
     "status": "completed"
    },
    "tags": []
   },
   "outputs": [
    {
     "name": "stdout",
     "output_type": "stream",
     "text": [
      "Details of Payment_of_Min_Amount column with a DataType:  object\n",
      "\n",
      "No null values\n",
      "\n",
      "Number of Unique Values:  3\n",
      "\n",
      "Column Distribution:\n",
      "\n",
      "Yes    52326\n",
      "No     35667\n",
      "NM     12007\n",
      "Name: Payment_of_Min_Amount, dtype: int64\n"
     ]
    }
   ],
   "source": [
    "col_details(df_train, 'Payment_of_Min_Amount')"
   ]
  },
  {
   "cell_type": "markdown",
   "id": "6569400a",
   "metadata": {
    "papermill": {
     "duration": 0.01504,
     "end_time": "2023-08-02T15:02:53.296909",
     "exception": false,
     "start_time": "2023-08-02T15:02:53.281869",
     "status": "completed"
    },
    "tags": []
   },
   "source": [
    "**Summary**\n",
    "\n",
    "3 unique values - Yes, No, Not Mentioned\n",
    "\n",
    "With a distribution of - 52%, 35% and 12%\n",
    "\n",
    "No missing values"
   ]
  },
  {
   "cell_type": "code",
   "execution_count": 33,
   "id": "dcfe665f",
   "metadata": {
    "execution": {
     "iopub.execute_input": "2023-08-02T15:02:53.328555Z",
     "iopub.status.busy": "2023-08-02T15:02:53.328190Z",
     "iopub.status.idle": "2023-08-02T15:02:53.542364Z",
     "shell.execute_reply": "2023-08-02T15:02:53.541012Z"
    },
    "papermill": {
     "duration": 0.23315,
     "end_time": "2023-08-02T15:02:53.544822",
     "exception": false,
     "start_time": "2023-08-02T15:02:53.311672",
     "status": "completed"
    },
    "tags": []
   },
   "outputs": [
    {
     "data": {
      "image/png": "[encoded data removed]",
      "text/plain": [
       "<Figure size 640x480 with 1 Axes>"
      ]
     },
     "metadata": {},
     "output_type": "display_data"
    }
   ],
   "source": [
    "stacked_bar(df_train, 'Payment_of_Min_Amount', 'Credit_Score')"
   ]
  },
  {
   "cell_type": "markdown",
   "id": "8fd7b402",
   "metadata": {
    "papermill": {
     "duration": 0.014552,
     "end_time": "2023-08-02T15:02:53.574322",
     "exception": false,
     "start_time": "2023-08-02T15:02:53.559770",
     "status": "completed"
    },
    "tags": []
   },
   "source": [
    "### Payment Behaviour"
   ]
  },
  {
   "cell_type": "code",
   "execution_count": 34,
   "id": "70ac193d",
   "metadata": {
    "execution": {
     "iopub.execute_input": "2023-08-02T15:02:53.605479Z",
     "iopub.status.busy": "2023-08-02T15:02:53.604950Z",
     "iopub.status.idle": "2023-08-02T15:02:53.629414Z",
     "shell.execute_reply": "2023-08-02T15:02:53.627896Z"
    },
    "papermill": {
     "duration": 0.042845,
     "end_time": "2023-08-02T15:02:53.631741",
     "exception": false,
     "start_time": "2023-08-02T15:02:53.588896",
     "status": "completed"
    },
    "tags": []
   },
   "outputs": [
    {
     "name": "stdout",
     "output_type": "stream",
     "text": [
      "Details of Payment_Behaviour column with a DataType:  object\n",
      "\n",
      "No null values\n",
      "\n",
      "Number of Unique Values:  7\n",
      "\n",
      "Column Distribution:\n",
      "\n",
      "Low_spent_Small_value_payments      25513\n",
      "High_spent_Medium_value_payments    17540\n",
      "Low_spent_Medium_value_payments     13861\n",
      "High_spent_Large_value_payments     13721\n",
      "High_spent_Small_value_payments     11340\n",
      "Low_spent_Large_value_payments      10425\n",
      "!@9#%8                               7600\n",
      "Name: Payment_Behaviour, dtype: int64\n"
     ]
    }
   ],
   "source": [
    "col_details(df_train, 'Payment_Behaviour')"
   ]
  },
  {
   "cell_type": "markdown",
   "id": "a1d335fe",
   "metadata": {
    "papermill": {
     "duration": 0.014101,
     "end_time": "2023-08-02T15:02:53.660345",
     "exception": false,
     "start_time": "2023-08-02T15:02:53.646244",
     "status": "completed"
    },
    "tags": []
   },
   "source": [
    "**Summary**\n",
    "\n",
    "There are 6 unique values, a mixture between Low or High spending and Small,Medium,Large payment values\n",
    "\n",
    "7,600 garbage values\n",
    "\n",
    "*Same cleaning steps*"
   ]
  },
  {
   "cell_type": "code",
   "execution_count": 35,
   "id": "c4187cdb",
   "metadata": {
    "execution": {
     "iopub.execute_input": "2023-08-02T15:02:53.690982Z",
     "iopub.status.busy": "2023-08-02T15:02:53.690556Z",
     "iopub.status.idle": "2023-08-02T15:02:57.027525Z",
     "shell.execute_reply": "2023-08-02T15:02:57.026243Z"
    },
    "papermill": {
     "duration": 3.354896,
     "end_time": "2023-08-02T15:02:57.029447",
     "exception": false,
     "start_time": "2023-08-02T15:02:53.674551",
     "status": "completed"
    },
    "tags": []
   },
   "outputs": [
    {
     "name": "stdout",
     "output_type": "stream",
     "text": [
      "\n",
      "-----------------------\\/------------------------------\n",
      "\n",
      "Garbage value !@9#%8 is replaced\n",
      "\n",
      " # of missing values before filling with group mode:  7600\n",
      "\n",
      " # of missing values after fill: 0\n"
     ]
    },
    {
     "data": {
      "image/png": "[encoded data removed]",
      "text/plain": [
       "<Figure size 640x480 with 1 Axes>"
      ]
     },
     "metadata": {},
     "output_type": "display_data"
    }
   ],
   "source": [
    "col_name = 'Payment_Behaviour'\n",
    "group_by = 'Customer_ID'\n",
    "garbage_value = '!@9#%8'\n",
    "\n",
    "# Cleaning\n",
    "clean_categorical_field(df_train, group_by, col_name, garbage_value)\n",
    "\n",
    "# Plot\n",
    "stacked_bar(df_train, col_name, 'Credit_Score', rotation = 75)"
   ]
  }
 ],
 "metadata": {
  "kernelspec": {
   "display_name": "Python 3 (ipykernel)",
   "language": "python",
   "name": "python3"
  },
  "language_info": {
   "codemirror_mode": {
    "name": "ipython",
    "version": 3
   },
   "file_extension": ".py",
   "mimetype": "text/x-python",
   "name": "python",
   "nbconvert_exporter": "python",
   "pygments_lexer": "ipython3",
   "version": "3.10.9"
  },
  "papermill": {
   "default_parameters": {},
   "duration": 32.760037,
   "end_time": "2023-08-02T15:02:58.069721",
   "environment_variables": {},
   "exception": null,
   "input_path": "__notebook__.ipynb",
   "output_path": "__notebook__.ipynb",
   "parameters": {},
   "start_time": "2023-08-02T15:02:25.309684",
   "version": "2.4.0"
  }
 },
 "nbformat": 4,
 "nbformat_minor": 5
}
